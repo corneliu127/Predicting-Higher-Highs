{
 "cells": [
  {
   "cell_type": "markdown",
   "metadata": {},
   "source": [
    "# Predicting Higher Highs Using Machine Learning Algorithms\n",
    "\n",
    "### Corneliu Caraba - Lewis University Master Thesis Program Attachment\n",
    "\n",
    "This is the program used to collect data for the Master Thesis entitled \"Predicting Higher Highs\" \n",
    "Use this program at your own risk. \n",
    "\n",
    "### Disclamer - MUST READ\n",
    "#### The information provided here is for research purposes only and is not intended for trading purposes or advice. I am not to be held responsible for any legal, financial or other advice. I am also not making any recommendations or endorsements of any investments. The information presented here does not constitute advice and you should not rely on it to make any decision or take any action. This is not a recommendation for buying or selling any stocks, securities, assets, or options.\n",
    "\n",
    "### Past Performance Does Not Guarantee Future Results!"
   ]
  },
  {
   "cell_type": "markdown",
   "metadata": {},
   "source": [
    "## General Imports\n",
    "\n",
    "General imports used for downloading data from Yahoo Finance, creating dataframes, calculating feautures and technical analysis indicators."
   ]
  },
  {
   "cell_type": "code",
   "execution_count": 2,
   "metadata": {},
   "outputs": [],
   "source": [
    "import pandas as pd\n",
    "import numpy as np\n",
    "import yfinance as yf\n",
    "import matplotlib.pyplot as plt\n",
    "from sklearn import preprocessing\n",
    "import talib\n",
    "\n",
    "%matplotlib inline"
   ]
  },
  {
   "cell_type": "markdown",
   "metadata": {},
   "source": [
    "## Raw Data Download\n",
    "This section will download data and save it using csv file for different stock. Ten year of historical dayily data will be used"
   ]
  },
  {
   "cell_type": "code",
   "execution_count": 3,
   "metadata": {},
   "outputs": [
    {
     "name": "stdout",
     "output_type": "stream",
     "text": [
      "[*********************100%***********************]  1 of 1 completed\n"
     ]
    }
   ],
   "source": [
    "# downloading data from Yahoo Finance\n",
    "start = \"2010-01-01\"\n",
    "end = \"2020-08-25\" # day to predict\n",
    "ticker = \"SPY\"\n",
    "data = yf.download(ticker, start, end)\n",
    "data.to_csv('data_csv')\n",
    "today = end;"
   ]
  },
  {
   "cell_type": "code",
   "execution_count": 4,
   "metadata": {},
   "outputs": [],
   "source": [
    "# saving data to csv file \n",
    "data.to_csv('data_csv')"
   ]
  },
  {
   "cell_type": "code",
   "execution_count": 5,
   "metadata": {},
   "outputs": [],
   "source": [
    "# reading the csv file\n",
    "df = pd.read_csv('data_csv', parse_dates=True, index_col='Date')"
   ]
  },
  {
   "cell_type": "code",
   "execution_count": 6,
   "metadata": {},
   "outputs": [
    {
     "name": "stdout",
     "output_type": "stream",
     "text": [
      "Prediction is for the following day: 2020-08-25\n"
     ]
    }
   ],
   "source": [
    "# day to be predicted (most recent day from the data)\n",
    "predict_day = df.index[-1]\n",
    "print('Prediction is for the following day:', end)"
   ]
  },
  {
   "cell_type": "markdown",
   "metadata": {},
   "source": [
    "## Calculating Features\n",
    "In this Section lots of features have been calculated. Not all feauters calculated here were used in the classification models."
   ]
  },
  {
   "cell_type": "code",
   "execution_count": 7,
   "metadata": {},
   "outputs": [],
   "source": [
    "# create rate of return (percent of change)\n",
    "df[\"Return\"] = df['Adj Close']/df['Adj Close'].shift(1) - 1\n",
    "\n",
    "# calculating moving averages\n",
    "df['SMA3']=df['Close'].rolling(window=3).mean()\n",
    "df['SMA5']=df['Close'].rolling(window=5).mean()\n",
    "df['SMA10']=df['Close'].rolling(window=10).mean()\n",
    "df['SMA20']=df['Close'].rolling(window=20).mean()\n",
    "df['SMA50']=df['Close'].rolling(window=50).mean()\n",
    "df['SMA100']=df['Close'].rolling(window=100).mean()\n",
    "df['SMA200']=df['Close'].rolling(window=200).mean()\n",
    "\n",
    "# calculating differences between price and moving averages\n",
    "df['Close_Vs_3SMA'] = df['Close'] - df['SMA3']\n",
    "df['Close_Vs_5SMA'] = df['Close'] - df['SMA5']\n",
    "df['Close_Vs_10SMA'] = df['Close'] - df['SMA10']\n",
    "df['Close_Vs_20SMA'] = df['Close'] - df['SMA20']\n",
    "df['Close_Vs_50SMA'] = df['Close'] - df['SMA50']\n",
    "df['Close_Vs_100SMA'] = df['Close'] - df['SMA100']\n",
    "df['Close_Vs_200SMA'] = df['Close'] - df['SMA200']\n",
    "\n",
    "# calculate difference between SMAs\n",
    "df['3SMA_Vs_5SMA'] = df['SMA3'] - df['SMA5']\n",
    "df['5SMA_Vs_10SMA'] = df['SMA5'] - df['SMA10']\n",
    "df['10SMA_Vs_20SMA'] = df['SMA10'] - df['SMA20']\n",
    "df['20SMA_Vs_50SMA'] = df['SMA20'] - df['SMA50']\n",
    "df['50SMA_Vs_100SMA'] = df['SMA50'] - df['SMA100']\n",
    "df['50SMA_Vs_200SMA'] = df['SMA50'] - df['SMA200']\n",
    "\n",
    "\n",
    "# calculate and add RSI momentum indicators\n",
    "df['RSI_14'] = talib.RSI(df['Close'], timeperiod=14)\n",
    "df['RSI_10'] = talib.RSI(df['Close'], timeperiod=10)\n",
    "df['RSI_5'] = talib.RSI(df['Close'], timeperiod=5)\n",
    "\n",
    "# calculate and MACD values\n",
    "df['macd'], df['macdsignal'], df['macdhist'] = talib.MACD(df['Close'],\n",
    "                                                          fastperiod=12, \n",
    "                                                          slowperiod=26, \n",
    "                                                          signalperiod=9)"
   ]
  },
  {
   "cell_type": "markdown",
   "metadata": {},
   "source": [
    "## Preprocessing Data"
   ]
  },
  {
   "cell_type": "code",
   "execution_count": 8,
   "metadata": {},
   "outputs": [],
   "source": [
    "# deleting NaN values from data\n",
    "df.dropna(inplace=True)"
   ]
  },
  {
   "cell_type": "markdown",
   "metadata": {},
   "source": [
    "### Data Features\n",
    "In this section the matrix of features used is created and normalized. The matrix will be entitle X and later split into X_train and X_test for feeding it into the models for prediction."
   ]
  },
  {
   "cell_type": "code",
   "execution_count": 9,
   "metadata": {},
   "outputs": [],
   "source": [
    "# features to be used in prediction\n",
    "features = ['Return','Close_Vs_3SMA', 'Close_Vs_5SMA', 'Close_Vs_10SMA', \n",
    "            'Close_Vs_20SMA','Close_Vs_50SMA','Close_Vs_100SMA','Close_Vs_200SMA',\n",
    "            '3SMA_Vs_5SMA','5SMA_Vs_10SMA','10SMA_Vs_20SMA','20SMA_Vs_50SMA',\n",
    "            '50SMA_Vs_200SMA','RSI_14', 'RSI_10','RSI_5','macd','macdsignal', 'macdhist']\n",
    "# creating the matrix of the features\n",
    "all_features = df[features].values"
   ]
  },
  {
   "cell_type": "code",
   "execution_count": 10,
   "metadata": {},
   "outputs": [],
   "source": [
    "# Normalizing the feature matrix\n",
    "from sklearn.preprocessing import MinMaxScaler\n",
    "scaler = MinMaxScaler()\n",
    "all_features_scaled = scaler.fit_transform(all_features)"
   ]
  },
  {
   "cell_type": "code",
   "execution_count": 11,
   "metadata": {},
   "outputs": [],
   "source": [
    "# dropping lat day which has no label and naming the future matrix X\n",
    "\n",
    "X = all_features_scaled[:-1]"
   ]
  },
  {
   "cell_type": "code",
   "execution_count": 12,
   "metadata": {},
   "outputs": [],
   "source": [
    "# last day of data (has no label - need to predict)\n",
    "last_day = all_features_scaled[-1]"
   ]
  },
  {
   "cell_type": "markdown",
   "metadata": {},
   "source": [
    "### Data Labels\n",
    "In this section the labels needed for classification are created. The labels vector will be entitle y which will later be split into y_train and y_test."
   ]
  },
  {
   "cell_type": "code",
   "execution_count": 13,
   "metadata": {},
   "outputs": [],
   "source": [
    "#creating label\n",
    "higher_high = df['High'].gt(df['High'].shift())\n",
    "df['Tomorrow Higher High'] = higher_high.shift(-1)\n",
    "df.dropna(inplace=True)"
   ]
  },
  {
   "cell_type": "code",
   "execution_count": 14,
   "metadata": {},
   "outputs": [],
   "source": [
    "# creating classes\n",
    "y = df['Tomorrow Higher High'].values.astype(int)"
   ]
  },
  {
   "cell_type": "code",
   "execution_count": 15,
   "metadata": {},
   "outputs": [
    {
     "name": "stdout",
     "output_type": "stream",
     "text": [
      "(2479, 19) (2479,)\n"
     ]
    }
   ],
   "source": [
    "# checking size of features matrix and class vector (must have same number or rows)\n",
    "print(X.shape, y.shape)"
   ]
  },
  {
   "cell_type": "markdown",
   "metadata": {},
   "source": [
    "### Split Data\n",
    "In this section the data it split into train and test. The train data will be used to fit the models while test data to check accuracy of the model."
   ]
  },
  {
   "cell_type": "code",
   "execution_count": 16,
   "metadata": {},
   "outputs": [
    {
     "name": "stdout",
     "output_type": "stream",
     "text": [
      "Number of days for testing data:  744\n",
      "Number of days for training data: 1735\n"
     ]
    }
   ],
   "source": [
    "# splitting data into train and test data\n",
    "from sklearn.model_selection import train_test_split\n",
    "(X_train, X_test, y_train, y_test) = train_test_split(X, y, train_size=0.70, random_state=1)\n",
    "print('Number of days for testing data: ',len(X_test))\n",
    "print('Number of days for training data:', len(X_train))"
   ]
  },
  {
   "cell_type": "markdown",
   "metadata": {},
   "source": [
    "### Test Data Basic Statistics\n",
    "Some basic statistics are calculated in this section."
   ]
  },
  {
   "cell_type": "code",
   "execution_count": 17,
   "metadata": {},
   "outputs": [],
   "source": [
    "total_test = len(y)\n",
    "increase = sum(y)\n",
    "not_increase = total_test - increase"
   ]
  },
  {
   "cell_type": "code",
   "execution_count": 18,
   "metadata": {},
   "outputs": [
    {
     "name": "stdout",
     "output_type": "stream",
     "text": [
      "Days of higher highs:  1351\n",
      "Days of not increase: 1128\n"
     ]
    }
   ],
   "source": [
    "print('Days of higher highs: ', increase)\n",
    "print('Days of not increase:', not_increase)"
   ]
  },
  {
   "cell_type": "code",
   "execution_count": 19,
   "metadata": {},
   "outputs": [
    {
     "name": "stdout",
     "output_type": "stream",
     "text": [
      "Percent of higher highs:  0.54497781363453\n",
      "Percent of not increase:  0.4550221863654699\n"
     ]
    }
   ],
   "source": [
    "print(\"Percent of higher highs: \", increase/total_test)\n",
    "print(\"Percent of not increase: \", not_increase/total_test)"
   ]
  },
  {
   "cell_type": "code",
   "execution_count": 20,
   "metadata": {},
   "outputs": [],
   "source": [
    "# function for calculating precision\n",
    "def precision(cm):\n",
    "    precision = tp / (tp+fp)\n",
    "    return precision\n",
    "\n",
    "# function for calculating recall\n",
    "def recall(cm):\n",
    "    recall = tp / (tp+fn)\n",
    "    return recall"
   ]
  },
  {
   "cell_type": "markdown",
   "metadata": {},
   "source": [
    "## Classification Models\n",
    "In this section different Classification Models Algorithms are used to predict if the stock has a higher high or not for the next day."
   ]
  },
  {
   "cell_type": "code",
   "execution_count": 21,
   "metadata": {},
   "outputs": [
    {
     "name": "stdout",
     "output_type": "stream",
     "text": [
      "Prediction Day is : 2020-08-24 00:00:00\n"
     ]
    }
   ],
   "source": [
    "print('Prediction Day is :', predict_day)"
   ]
  },
  {
   "cell_type": "code",
   "execution_count": 22,
   "metadata": {},
   "outputs": [],
   "source": [
    "# metrics imports\n",
    "from sklearn.metrics import confusion_matrix, classification_report\n",
    "from sklearn.model_selection import cross_val_score\n",
    "from sklearn.metrics import accuracy_score\n",
    "from sklearn.metrics import f1_score\n",
    "\n",
    "from sklearn.metrics import plot_confusion_matrix\n",
    "from sklearn import metrics"
   ]
  },
  {
   "cell_type": "code",
   "execution_count": 23,
   "metadata": {},
   "outputs": [],
   "source": [
    "# function to print results\n",
    "count = 0 # keep track of models that predict higher highs\n",
    "def printResults():\n",
    "    print(model, \"Results\\n\")\n",
    "    print(\"Precission: \", precision(cm))\n",
    "    print(\"Recall: \", recall(cm))\n",
    "    cv_scores = cross_val_score(clf, X, y)\n",
    "    print(\"Cross Validation Score: \", cv_scores.mean())\n",
    "    print(\"\\nAccoridng to \", model)\n",
    "    result = clf.predict([last_day])\n",
    "    if result < 1:\n",
    "        print(ticker, \" will not print a higher high on\", end)\n",
    "    elif result == 1:\n",
    "        print(ticker, \" will reach a higher high on \", end, \" with a precision of: \", precision(cm))\n",
    "        global count\n",
    "        count += 1\n",
    "    print(\"\\nWARNING\\nPast Data Does Not Guarantee Future Results!\")"
   ]
  },
  {
   "cell_type": "markdown",
   "metadata": {},
   "source": [
    "### Random Forest Classifier"
   ]
  },
  {
   "cell_type": "code",
   "execution_count": 24,
   "metadata": {},
   "outputs": [
    {
     "name": "stdout",
     "output_type": "stream",
     "text": [
      "Cross Validation Score:  0.6199975562072335\n"
     ]
    }
   ],
   "source": [
    "from sklearn.ensemble import RandomForestClassifier\n",
    "model = \"Random Forest\"\n",
    "clf = RandomForestClassifier(n_estimators=100, max_depth = 5, max_features = 10, \n",
    "                             min_samples_leaf = 4, min_samples_split = 14, random_state=1)\n",
    "clf.fit(X_train,y_train)\n",
    "cv_scores = cross_val_score(clf, X, y)\n",
    "\n",
    "print(\"Cross Validation Score: \", cv_scores.mean())"
   ]
  },
  {
   "cell_type": "code",
   "execution_count": null,
   "metadata": {},
   "outputs": [],
   "source": []
  },
  {
   "cell_type": "markdown",
   "metadata": {},
   "source": [
    "#### Confustion Matrix for Random Forest"
   ]
  },
  {
   "cell_type": "code",
   "execution_count": 25,
   "metadata": {},
   "outputs": [
    {
     "name": "stdout",
     "output_type": "stream",
     "text": [
      "Confusion Matrix for  Random Forest SPY\n"
     ]
    },
    {
     "data": {
      "image/png": "[encoded data removed]",
      "text/plain": [
       "<Figure size 432x288 with 2 Axes>"
      ]
     },
     "metadata": {
      "needs_background": "light"
     },
     "output_type": "display_data"
    }
   ],
   "source": [
    "y_pred = clf.predict(X_test)\n",
    "cm = confusion_matrix(y_test, y_pred)\n",
    "print(\"Confusion Matrix for \", model, ticker)\n",
    "disp = plot_confusion_matrix(clf,X_test, y_test)"
   ]
  },
  {
   "cell_type": "markdown",
   "metadata": {},
   "source": [
    "### Precision and Recall\n",
    "\n",
    "Precision is known as positive predictive value and is the proportion of relevant instances among the retrieved instances. In other words, it answer the question \"What proportion of positive identifications was actually correct?\"\n",
    "\n",
    "Recall i known as the sensitivity or the hit rate which is the true positive rate (TPR) and is the proportion of the total amount of relevant instances that were acually retrieved. It answer the question \"What proportion of actual positives wea identified correctly?"
   ]
  },
  {
   "cell_type": "code",
   "execution_count": 26,
   "metadata": {},
   "outputs": [],
   "source": [
    "# identifying confusion matrix labels\n",
    "tn = cm[0][0]\n",
    "tp = cm[1][1]\n",
    "fp = cm[0][1]\n",
    "fn = cm[1][0]"
   ]
  },
  {
   "cell_type": "code",
   "execution_count": 27,
   "metadata": {},
   "outputs": [
    {
     "name": "stdout",
     "output_type": "stream",
     "text": [
      "Random Forest Classifier\n",
      "Precission:  0.6458333333333334\n",
      "Recall:  0.8138424821002387\n"
     ]
    }
   ],
   "source": [
    "model = \"Random Forest Classifier\"\n",
    "print(model)\n",
    "print(\"Precission: \", precision(cm))\n",
    "print(\"Recall: \", recall(cm))"
   ]
  },
  {
   "cell_type": "markdown",
   "metadata": {},
   "source": [
    "##### Prediction"
   ]
  },
  {
   "cell_type": "code",
   "execution_count": 28,
   "metadata": {},
   "outputs": [
    {
     "name": "stdout",
     "output_type": "stream",
     "text": [
      "Random Forest Classifier Results\n",
      "\n",
      "Precission:  0.6458333333333334\n",
      "Recall:  0.8138424821002387\n",
      "Cross Validation Score:  0.6199975562072335\n",
      "\n",
      "Accoridng to  Random Forest Classifier\n",
      "SPY  will reach a higher high on  2020-08-25  with a precision of:  0.6458333333333334\n",
      "\n",
      "WARNING\n",
      "Past Data Does Not Guarantee Future Results!\n"
     ]
    }
   ],
   "source": [
    "printResults()"
   ]
  },
  {
   "cell_type": "markdown",
   "metadata": {},
   "source": [
    "## Support Vector Machine Classifier"
   ]
  },
  {
   "cell_type": "code",
   "execution_count": 29,
   "metadata": {},
   "outputs": [],
   "source": [
    "from sklearn.svm import SVC"
   ]
  },
  {
   "cell_type": "markdown",
   "metadata": {},
   "source": [
    "##### SVC kernel = linear"
   ]
  },
  {
   "cell_type": "code",
   "execution_count": 30,
   "metadata": {},
   "outputs": [],
   "source": [
    "clf = SVC(kernel = 'linear', C = 1000)\n",
    "model = \"SVM (linear)\""
   ]
  },
  {
   "cell_type": "code",
   "execution_count": 31,
   "metadata": {},
   "outputs": [
    {
     "name": "stdout",
     "output_type": "stream",
     "text": [
      "Cross Validation Score:  0.6123338220918866\n"
     ]
    }
   ],
   "source": [
    "clf.fit(X_train, y_train)\n",
    "\n",
    "cv_scores = cross_val_score(clf, X, y)\n",
    "print(\"Cross Validation Score: \", cv_scores.mean())"
   ]
  },
  {
   "cell_type": "code",
   "execution_count": 32,
   "metadata": {},
   "outputs": [
    {
     "name": "stdout",
     "output_type": "stream",
     "text": [
      "Confusion Matrix for  SVM (linear) SPY\n"
     ]
    },
    {
     "data": {
      "image/png": "[encoded data removed]",
      "text/plain": [
       "<Figure size 432x288 with 2 Axes>"
      ]
     },
     "metadata": {
      "needs_background": "light"
     },
     "output_type": "display_data"
    }
   ],
   "source": [
    "y_pred = clf.predict(X_test)\n",
    "cm = confusion_matrix(y_test, y_pred)\n",
    "print(\"Confusion Matrix for \", model, ticker)\n",
    "disp = plot_confusion_matrix(clf,X_test, y_test)"
   ]
  },
  {
   "cell_type": "code",
   "execution_count": 33,
   "metadata": {},
   "outputs": [],
   "source": [
    "# identifying confusion matrix labels\n",
    "tn = cm[0][0]\n",
    "tp = cm[1][1]\n",
    "fp = cm[0][1]\n",
    "fn = cm[1][0]"
   ]
  },
  {
   "cell_type": "code",
   "execution_count": 34,
   "metadata": {},
   "outputs": [
    {
     "name": "stdout",
     "output_type": "stream",
     "text": [
      "SVM (linear) Results\n",
      "\n",
      "Precission:  0.6431451612903226\n",
      "Recall:  0.7613365155131265\n",
      "Cross Validation Score:  0.6123338220918866\n",
      "\n",
      "Accoridng to  SVM (linear)\n",
      "SPY  will reach a higher high on  2020-08-25  with a precision of:  0.6431451612903226\n",
      "\n",
      "WARNING\n",
      "Past Data Does Not Guarantee Future Results!\n"
     ]
    }
   ],
   "source": [
    "printResults()"
   ]
  },
  {
   "cell_type": "code",
   "execution_count": null,
   "metadata": {},
   "outputs": [],
   "source": [
    "    "
   ]
  },
  {
   "cell_type": "markdown",
   "metadata": {},
   "source": [
    "##### SVC kernel = poly"
   ]
  },
  {
   "cell_type": "code",
   "execution_count": 35,
   "metadata": {},
   "outputs": [
    {
     "name": "stdout",
     "output_type": "stream",
     "text": [
      "Cross Validation Score:  0.6107249918540241\n"
     ]
    }
   ],
   "source": [
    "model = \"SVM (poly)\"\n",
    "clf = SVC(kernel = 'poly', degree = 2, C = 1)\n",
    "clf.fit(X_train, y_train)\n",
    "\n",
    "cv_scores = cross_val_score(clf, X, y)\n",
    "print(\"Cross Validation Score: \", cv_scores.mean())"
   ]
  },
  {
   "cell_type": "code",
   "execution_count": 36,
   "metadata": {},
   "outputs": [
    {
     "name": "stdout",
     "output_type": "stream",
     "text": [
      "Confusion Matrix for  SVM (poly) SPY\n"
     ]
    },
    {
     "data": {
      "image/png": "[encoded data removed]",
      "text/plain": [
       "<Figure size 432x288 with 2 Axes>"
      ]
     },
     "metadata": {
      "needs_background": "light"
     },
     "output_type": "display_data"
    }
   ],
   "source": [
    "y_pred = clf.predict(X_test)\n",
    "cm = confusion_matrix(y_test, y_pred)\n",
    "print(\"Confusion Matrix for \", model, ticker)\n",
    "disp = plot_confusion_matrix(clf,X_test, y_test)"
   ]
  },
  {
   "cell_type": "code",
   "execution_count": 37,
   "metadata": {},
   "outputs": [],
   "source": [
    "# identifying confusion matrix labels\n",
    "tn = cm[0][0]\n",
    "tp = cm[1][1]\n",
    "fp = cm[0][1]\n",
    "fn = cm[1][0]"
   ]
  },
  {
   "cell_type": "code",
   "execution_count": 38,
   "metadata": {},
   "outputs": [
    {
     "name": "stdout",
     "output_type": "stream",
     "text": [
      "SVM (poly) Results\n",
      "\n",
      "Precission:  0.6274864376130199\n",
      "Recall:  0.8281622911694511\n",
      "Cross Validation Score:  0.6107249918540241\n",
      "\n",
      "Accoridng to  SVM (poly)\n",
      "SPY  will reach a higher high on  2020-08-25  with a precision of:  0.6274864376130199\n",
      "\n",
      "WARNING\n",
      "Past Data Does Not Guarantee Future Results!\n"
     ]
    }
   ],
   "source": [
    "printResults()"
   ]
  },
  {
   "cell_type": "code",
   "execution_count": null,
   "metadata": {},
   "outputs": [],
   "source": []
  },
  {
   "cell_type": "markdown",
   "metadata": {},
   "source": [
    "### Logistic Regression Classifier"
   ]
  },
  {
   "cell_type": "code",
   "execution_count": 39,
   "metadata": {},
   "outputs": [
    {
     "data": {
      "text/plain": [
       "LogisticRegression(C=0.99)"
      ]
     },
     "execution_count": 39,
     "metadata": {},
     "output_type": "execute_result"
    }
   ],
   "source": [
    "model = \"Logistic Regression\"\n",
    "from sklearn.linear_model import LogisticRegression\n",
    "clf = LogisticRegression(penalty = 'l2', solver = 'lbfgs', C = 0.99)\n",
    "clf.fit(X_train, y_train)"
   ]
  },
  {
   "cell_type": "code",
   "execution_count": 40,
   "metadata": {},
   "outputs": [
    {
     "name": "stdout",
     "output_type": "stream",
     "text": [
      "Confusion Matrix for  Logistic Regression SPY\n"
     ]
    },
    {
     "data": {
      "image/png": "[encoded data removed]",
      "text/plain": [
       "<Figure size 432x288 with 2 Axes>"
      ]
     },
     "metadata": {
      "needs_background": "light"
     },
     "output_type": "display_data"
    }
   ],
   "source": [
    "y_pred = clf.predict(X_test)\n",
    "cm = confusion_matrix(y_test, y_pred)\n",
    "print(\"Confusion Matrix for \", model, ticker)\n",
    "disp = plot_confusion_matrix(clf,X_test, y_test)"
   ]
  },
  {
   "cell_type": "code",
   "execution_count": 41,
   "metadata": {},
   "outputs": [],
   "source": [
    "# identifying confusion matrix labels\n",
    "tn = cm[0][0]\n",
    "tp = cm[1][1]\n",
    "fp = cm[0][1]\n",
    "fn = cm[1][0]"
   ]
  },
  {
   "cell_type": "code",
   "execution_count": 42,
   "metadata": {},
   "outputs": [
    {
     "name": "stdout",
     "output_type": "stream",
     "text": [
      "Logistic Regression SPY\n",
      "Cross Validation Score:  0.60225073313783\n",
      "Precission:  0.6294117647058823\n",
      "Recall:  0.766109785202864\n"
     ]
    }
   ],
   "source": [
    "print(model, ticker)\n",
    "cv_scores = cross_val_score(clf, X, y)\n",
    "print(\"Cross Validation Score: \", cv_scores.mean())\n",
    "print(\"Precission: \", precision(cm))\n",
    "print(\"Recall: \", recall(cm))"
   ]
  },
  {
   "cell_type": "code",
   "execution_count": 43,
   "metadata": {},
   "outputs": [
    {
     "name": "stdout",
     "output_type": "stream",
     "text": [
      "Logistic Regression Results\n",
      "\n",
      "Precission:  0.6294117647058823\n",
      "Recall:  0.766109785202864\n",
      "Cross Validation Score:  0.60225073313783\n",
      "\n",
      "Accoridng to  Logistic Regression\n",
      "SPY  will reach a higher high on  2020-08-25  with a precision of:  0.6294117647058823\n",
      "\n",
      "WARNING\n",
      "Past Data Does Not Guarantee Future Results!\n"
     ]
    }
   ],
   "source": [
    "printResults()"
   ]
  },
  {
   "cell_type": "markdown",
   "metadata": {},
   "source": [
    "### KNN"
   ]
  },
  {
   "cell_type": "code",
   "execution_count": 44,
   "metadata": {},
   "outputs": [
    {
     "data": {
      "text/plain": [
       "0.5736074833485699"
      ]
     },
     "execution_count": 44,
     "metadata": {},
     "output_type": "execute_result"
    }
   ],
   "source": [
    "from sklearn import neighbors\n",
    "\n",
    "model = \"K-Nearest Neighbors\"\n",
    "clf = neighbors.KNeighborsClassifier(n_neighbors=25)\n",
    "clf.fit(X,y)\n",
    "cv_scores = cross_val_score(clf, X, y, cv=10)\n",
    "\n",
    "cv_scores.mean()"
   ]
  },
  {
   "cell_type": "code",
   "execution_count": 45,
   "metadata": {},
   "outputs": [
    {
     "name": "stdout",
     "output_type": "stream",
     "text": [
      "Confusion Matrix for  K-Nearest Neighbors SPY\n"
     ]
    },
    {
     "data": {
      "image/png": "[encoded data removed]",
      "text/plain": [
       "<Figure size 432x288 with 2 Axes>"
      ]
     },
     "metadata": {
      "needs_background": "light"
     },
     "output_type": "display_data"
    }
   ],
   "source": [
    "y_pred = clf.predict(X_test)\n",
    "cm = confusion_matrix(y_test, y_pred)\n",
    "print(\"Confusion Matrix for \", model, ticker)\n",
    "disp = plot_confusion_matrix(clf,X_test, y_test)"
   ]
  },
  {
   "cell_type": "code",
   "execution_count": 46,
   "metadata": {},
   "outputs": [],
   "source": [
    "# identifying confusion matrix labels\n",
    "tn = cm[0][0]\n",
    "tp = cm[1][1]\n",
    "fp = cm[0][1]\n",
    "fn = cm[1][0]"
   ]
  },
  {
   "cell_type": "code",
   "execution_count": 47,
   "metadata": {},
   "outputs": [
    {
     "name": "stdout",
     "output_type": "stream",
     "text": [
      "K-Nearest Neighbors SPY\n",
      "Cross Validation Score:  0.5832885304659499\n",
      "Precission:  0.6500994035785288\n",
      "Recall:  0.7804295942720764\n"
     ]
    }
   ],
   "source": [
    "print(model, ticker)\n",
    "cv_scores = cross_val_score(clf, X, y)\n",
    "print(\"Cross Validation Score: \", cv_scores.mean())\n",
    "print(\"Precission: \", precision(cm))\n",
    "print(\"Recall: \", recall(cm))"
   ]
  },
  {
   "cell_type": "code",
   "execution_count": 48,
   "metadata": {},
   "outputs": [
    {
     "name": "stdout",
     "output_type": "stream",
     "text": [
      "K-Nearest Neighbors Results\n",
      "\n",
      "Precission:  0.6500994035785288\n",
      "Recall:  0.7804295942720764\n",
      "Cross Validation Score:  0.5832885304659499\n",
      "\n",
      "Accoridng to  K-Nearest Neighbors\n",
      "SPY  will reach a higher high on  2020-08-25  with a precision of:  0.6500994035785288\n",
      "\n",
      "WARNING\n",
      "Past Data Does Not Guarantee Future Results!\n"
     ]
    }
   ],
   "source": [
    "printResults()"
   ]
  },
  {
   "cell_type": "code",
   "execution_count": 50,
   "metadata": {},
   "outputs": [
    {
     "name": "stdout",
     "output_type": "stream",
     "text": [
      "Out of 5 models,  5 predicted higher highs on 2020-08-25 for SPY\n",
      "Number of days used for training the model:  1735\n",
      "Number of days used to test the model:  744\n",
      "Total days of data used:  2479 or approximately 9.837301587301587 years.\n",
      "\n",
      "Have a nice day :)\n"
     ]
    }
   ],
   "source": [
    "print(\"Out of 5 models, \",count, \"predicted higher highs on\", end, \"for\", ticker)\n",
    "print(\"Number of days used for training the model: \", len(y_train))\n",
    "print(\"Number of days used to test the model: \", len(y_test))\n",
    "print(\"Total days of data used: \", len(y), \"or approximately\", len(y)/252, \"years.\" )\n",
    "print(\"\\nHave a nice day :)\")"
   ]
  },
  {
   "cell_type": "code",
   "execution_count": null,
   "metadata": {},
   "outputs": [],
   "source": []
  },
  {
   "cell_type": "code",
   "execution_count": null,
   "metadata": {},
   "outputs": [],
   "source": []
  },
  {
   "cell_type": "code",
   "execution_count": null,
   "metadata": {},
   "outputs": [],
   "source": []
  },
  {
   "cell_type": "code",
   "execution_count": null,
   "metadata": {},
   "outputs": [],
   "source": []
  },
  {
   "cell_type": "code",
   "execution_count": null,
   "metadata": {},
   "outputs": [],
   "source": []
  },
  {
   "cell_type": "code",
   "execution_count": null,
   "metadata": {},
   "outputs": [],
   "source": []
  },
  {
   "cell_type": "code",
   "execution_count": null,
   "metadata": {},
   "outputs": [],
   "source": []
  },
  {
   "cell_type": "code",
   "execution_count": null,
   "metadata": {},
   "outputs": [],
   "source": []
  },
  {
   "cell_type": "code",
   "execution_count": null,
   "metadata": {},
   "outputs": [],
   "source": []
  },
  {
   "cell_type": "code",
   "execution_count": null,
   "metadata": {},
   "outputs": [],
   "source": []
  },
  {
   "cell_type": "code",
   "execution_count": null,
   "metadata": {},
   "outputs": [],
   "source": []
  },
  {
   "cell_type": "code",
   "execution_count": null,
   "metadata": {},
   "outputs": [],
   "source": []
  },
  {
   "cell_type": "code",
   "execution_count": null,
   "metadata": {},
   "outputs": [],
   "source": []
  },
  {
   "cell_type": "code",
   "execution_count": null,
   "metadata": {},
   "outputs": [],
   "source": []
  },
  {
   "cell_type": "code",
   "execution_count": null,
   "metadata": {},
   "outputs": [],
   "source": []
  }
 ],
 "metadata": {
  "kernelspec": {
   "display_name": "Python 3",
   "language": "python",
   "name": "python3"
  },
  "language_info": {
   "codemirror_mode": {
    "name": "ipython",
    "version": 3
   },
   "file_extension": ".py",
   "mimetype": "text/x-python",
   "name": "python",
   "nbconvert_exporter": "python",
   "pygments_lexer": "ipython3",
   "version": "3.7.7"
  }
 },
 "nbformat": 4,
 "nbformat_minor": 4
}
